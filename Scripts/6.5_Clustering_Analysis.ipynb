{
 "cells": [
  {
   "cell_type": "code",
   "execution_count": 1,
   "id": "82ac0027",
   "metadata": {},
   "outputs": [],
   "source": [
    "#Import Libraries\n",
    "\n",
    "import pandas as pd\n",
    "import numpy as np\n",
    "import seaborn as sns\n",
    "import matplotlib\n",
    "import matplotlib.pyplot as plt\n",
    "import os\n",
    "import sklearn\n",
    "from sklearn.cluster import KMeans \n",
    "import pylab as pl"
   ]
  },
  {
   "cell_type": "code",
   "execution_count": 2,
   "id": "451f6178",
   "metadata": {},
   "outputs": [],
   "source": [
    "#Code for graphs to display in notebook\n",
    "\n",
    "%matplotlib inline"
   ]
  },
  {
   "cell_type": "code",
   "execution_count": 3,
   "id": "13ca43a5",
   "metadata": {},
   "outputs": [],
   "source": [
    "#Create a file path\n",
    "path= r'C:\\Users\\Zinnia\\Documents\\Career Foundry Data Analytics Course\\Achievement 6\\Data\\Edited'"
   ]
  },
  {
   "cell_type": "code",
   "execution_count": 4,
   "id": "899f1d38",
   "metadata": {},
   "outputs": [],
   "source": [
    "#Import Data\n",
    "df=pd.read_csv(os.path.join(path, 'Open_Space_Municipal_with_Total_Acres.csv'), index_col=False)"
   ]
  },
  {
   "cell_type": "markdown",
   "id": "fefe3aee",
   "metadata": {},
   "source": [
    "#I will be using the municipal dataset which has more data points for this exercise"
   ]
  },
  {
   "cell_type": "code",
   "execution_count": 5,
   "id": "440bbb9c",
   "metadata": {},
   "outputs": [
    {
     "data": {
      "text/plain": [
       "(554, 3)"
      ]
     },
     "execution_count": 5,
     "metadata": {},
     "output_type": "execute_result"
    }
   ],
   "source": [
    "df.shape"
   ]
  },
  {
   "cell_type": "code",
   "execution_count": 6,
   "id": "a97a11b9",
   "metadata": {},
   "outputs": [
    {
     "data": {
      "text/html": [
       "<div>\n",
       "<style scoped>\n",
       "    .dataframe tbody tr th:only-of-type {\n",
       "        vertical-align: middle;\n",
       "    }\n",
       "\n",
       "    .dataframe tbody tr th {\n",
       "        vertical-align: top;\n",
       "    }\n",
       "\n",
       "    .dataframe thead th {\n",
       "        text-align: right;\n",
       "    }\n",
       "</style>\n",
       "<table border=\"1\" class=\"dataframe\">\n",
       "  <thead>\n",
       "    <tr style=\"text-align: right;\">\n",
       "      <th></th>\n",
       "      <th>Municipality</th>\n",
       "      <th>Total_Acres_Open_Space</th>\n",
       "      <th>Total_Acres_In_Municipality</th>\n",
       "    </tr>\n",
       "  </thead>\n",
       "  <tbody>\n",
       "    <tr>\n",
       "      <th>0</th>\n",
       "      <td>1</td>\n",
       "      <td>390.772836</td>\n",
       "      <td>3499.52</td>\n",
       "    </tr>\n",
       "    <tr>\n",
       "      <th>1</th>\n",
       "      <td>2</td>\n",
       "      <td>941.670537</td>\n",
       "      <td>6886.40</td>\n",
       "    </tr>\n",
       "    <tr>\n",
       "      <th>2</th>\n",
       "      <td>3</td>\n",
       "      <td>3116.170626</td>\n",
       "      <td>4174.08</td>\n",
       "    </tr>\n",
       "    <tr>\n",
       "      <th>3</th>\n",
       "      <td>4</td>\n",
       "      <td>309.927139</td>\n",
       "      <td>4846.72</td>\n",
       "    </tr>\n",
       "    <tr>\n",
       "      <th>4</th>\n",
       "      <td>5</td>\n",
       "      <td>2779.443567</td>\n",
       "      <td>26291.20</td>\n",
       "    </tr>\n",
       "  </tbody>\n",
       "</table>\n",
       "</div>"
      ],
      "text/plain": [
       "   Municipality  Total_Acres_Open_Space  Total_Acres_In_Municipality\n",
       "0             1              390.772836                      3499.52\n",
       "1             2              941.670537                      6886.40\n",
       "2             3             3116.170626                      4174.08\n",
       "3             4              309.927139                      4846.72\n",
       "4             5             2779.443567                     26291.20"
      ]
     },
     "execution_count": 6,
     "metadata": {},
     "output_type": "execute_result"
    }
   ],
   "source": [
    "df.head()"
   ]
  },
  {
   "cell_type": "markdown",
   "id": "80a77a78",
   "metadata": {},
   "source": [
    "#Caegorical variables were removed for this practice. The municipalities were sorted by county then by municipality in excel. Then the identifying municipality was replaced with a numeric value "
   ]
  },
  {
   "cell_type": "markdown",
   "id": "ebedcb05",
   "metadata": {},
   "source": [
    "### Elbow Technique"
   ]
  },
  {
   "cell_type": "markdown",
   "id": "33980a69",
   "metadata": {},
   "source": [
    "#Use the elbow technique to determine the number of clusters for the dataset"
   ]
  },
  {
   "cell_type": "code",
   "execution_count": 7,
   "id": "cb664a49",
   "metadata": {},
   "outputs": [],
   "source": [
    "#Set the range for the clusters\n",
    "num_cl = range(1, 10)\n",
    "kmeans = [KMeans(n_clusters=i) for i in num_cl]"
   ]
  },
  {
   "cell_type": "code",
   "execution_count": 8,
   "id": "9bb2a676",
   "metadata": {},
   "outputs": [
    {
     "name": "stderr",
     "output_type": "stream",
     "text": [
      "C:\\Users\\Zinnia\\anaconda3\\lib\\site-packages\\sklearn\\cluster\\_kmeans.py:881: UserWarning: KMeans is known to have a memory leak on Windows with MKL, when there are less chunks than available threads. You can avoid it by setting the environment variable OMP_NUM_THREADS=3.\n",
      "  warnings.warn(\n"
     ]
    }
   ],
   "source": [
    "#Apply the k-means algorithm\n",
    "score = [kmeans[i].fit(df).score(df) for i in range(len(kmeans))]"
   ]
  },
  {
   "cell_type": "code",
   "execution_count": 9,
   "id": "63d78ff2",
   "metadata": {},
   "outputs": [
    {
     "data": {
      "text/plain": [
       "[-104006919327.81743,\n",
       " -42923114381.12553,\n",
       " -25832731175.741272,\n",
       " -16817740174.435232,\n",
       " -10769627574.051996,\n",
       " -8280444815.121174,\n",
       " -6884310001.324768,\n",
       " -5923375283.634103,\n",
       " -5071144374.333762]"
      ]
     },
     "execution_count": 9,
     "metadata": {},
     "output_type": "execute_result"
    }
   ],
   "source": [
    "score"
   ]
  },
  {
   "cell_type": "code",
   "execution_count": 10,
   "id": "1bcfdb5b",
   "metadata": {},
   "outputs": [
    {
     "data": {
      "image/png": "[encoded data removed]",
      "text/plain": [
       "<Figure size 432x288 with 1 Axes>"
      ]
     },
     "metadata": {
      "needs_background": "light"
     },
     "output_type": "display_data"
    }
   ],
   "source": [
    "# Plot the elbow curve!\n",
    "\n",
    "pl.plot(num_cl,score)\n",
    "pl.xlabel('Number of Clusters')\n",
    "pl.ylabel('Score')\n",
    "pl.title('Elbow Curve')\n",
    "pl.show()"
   ]
  },
  {
   "cell_type": "markdown",
   "id": "6dbbccad",
   "metadata": {},
   "source": [
    "#My cluster isn't at as sharp of an angle as the example. The sharp bend is at 3 but it flattens starting at 4-5. I will try 3 clusters since that seems closest to the \"elbow\" of the graph."
   ]
  },
  {
   "cell_type": "markdown",
   "id": "5a673026",
   "metadata": {},
   "source": [
    "### K-Means Clustering"
   ]
  },
  {
   "cell_type": "code",
   "execution_count": 11,
   "id": "3228b56b",
   "metadata": {},
   "outputs": [],
   "source": [
    "# Create the k-means object with 3 clusters\n",
    "\n",
    "kmeans = KMeans(n_clusters = 3, n_jobs = -1) "
   ]
  },
  {
   "cell_type": "code",
   "execution_count": 12,
   "id": "c93c59d1",
   "metadata": {},
   "outputs": [
    {
     "name": "stderr",
     "output_type": "stream",
     "text": [
      "C:\\Users\\Zinnia\\anaconda3\\lib\\site-packages\\sklearn\\cluster\\_kmeans.py:792: FutureWarning: 'n_jobs' was deprecated in version 0.23 and will be removed in 1.0 (renaming of 0.25).\n",
      "  warnings.warn(\"'n_jobs' was deprecated in version 0.23 and will be\"\n"
     ]
    },
    {
     "data": {
      "text/plain": [
       "KMeans(n_clusters=3, n_jobs=-1)"
      ]
     },
     "execution_count": 12,
     "metadata": {},
     "output_type": "execute_result"
    }
   ],
   "source": [
    "# Fit the k-means object to the data\n",
    "\n",
    "kmeans.fit(df)"
   ]
  },
  {
   "cell_type": "code",
   "execution_count": 13,
   "id": "11d37e37",
   "metadata": {},
   "outputs": [
    {
     "name": "stderr",
     "output_type": "stream",
     "text": [
      "C:\\Users\\Zinnia\\anaconda3\\lib\\site-packages\\sklearn\\cluster\\_kmeans.py:792: FutureWarning: 'n_jobs' was deprecated in version 0.23 and will be removed in 1.0 (renaming of 0.25).\n",
      "  warnings.warn(\"'n_jobs' was deprecated in version 0.23 and will be\"\n"
     ]
    }
   ],
   "source": [
    "#Create a new 'clusters'column\n",
    "\n",
    "df['clusters'] = kmeans.fit_predict(df)"
   ]
  },
  {
   "cell_type": "code",
   "execution_count": 14,
   "id": "6b5cbdcf",
   "metadata": {
    "scrolled": true
   },
   "outputs": [
    {
     "data": {
      "text/html": [
       "<div>\n",
       "<style scoped>\n",
       "    .dataframe tbody tr th:only-of-type {\n",
       "        vertical-align: middle;\n",
       "    }\n",
       "\n",
       "    .dataframe tbody tr th {\n",
       "        vertical-align: top;\n",
       "    }\n",
       "\n",
       "    .dataframe thead th {\n",
       "        text-align: right;\n",
       "    }\n",
       "</style>\n",
       "<table border=\"1\" class=\"dataframe\">\n",
       "  <thead>\n",
       "    <tr style=\"text-align: right;\">\n",
       "      <th></th>\n",
       "      <th>Municipality</th>\n",
       "      <th>Total_Acres_Open_Space</th>\n",
       "      <th>Total_Acres_In_Municipality</th>\n",
       "      <th>clusters</th>\n",
       "    </tr>\n",
       "  </thead>\n",
       "  <tbody>\n",
       "    <tr>\n",
       "      <th>0</th>\n",
       "      <td>1</td>\n",
       "      <td>390.772836</td>\n",
       "      <td>3499.52</td>\n",
       "      <td>0</td>\n",
       "    </tr>\n",
       "    <tr>\n",
       "      <th>1</th>\n",
       "      <td>2</td>\n",
       "      <td>941.670537</td>\n",
       "      <td>6886.40</td>\n",
       "      <td>0</td>\n",
       "    </tr>\n",
       "    <tr>\n",
       "      <th>2</th>\n",
       "      <td>3</td>\n",
       "      <td>3116.170626</td>\n",
       "      <td>4174.08</td>\n",
       "      <td>0</td>\n",
       "    </tr>\n",
       "    <tr>\n",
       "      <th>3</th>\n",
       "      <td>4</td>\n",
       "      <td>309.927139</td>\n",
       "      <td>4846.72</td>\n",
       "      <td>0</td>\n",
       "    </tr>\n",
       "    <tr>\n",
       "      <th>4</th>\n",
       "      <td>5</td>\n",
       "      <td>2779.443567</td>\n",
       "      <td>26291.20</td>\n",
       "      <td>1</td>\n",
       "    </tr>\n",
       "  </tbody>\n",
       "</table>\n",
       "</div>"
      ],
      "text/plain": [
       "   Municipality  Total_Acres_Open_Space  Total_Acres_In_Municipality  clusters\n",
       "0             1              390.772836                      3499.52         0\n",
       "1             2              941.670537                      6886.40         0\n",
       "2             3             3116.170626                      4174.08         0\n",
       "3             4              309.927139                      4846.72         0\n",
       "4             5             2779.443567                     26291.20         1"
      ]
     },
     "execution_count": 14,
     "metadata": {},
     "output_type": "execute_result"
    }
   ],
   "source": [
    "df.head()"
   ]
  },
  {
   "cell_type": "code",
   "execution_count": 15,
   "id": "ba3d167b",
   "metadata": {},
   "outputs": [
    {
     "data": {
      "text/plain": [
       "0    397\n",
       "1    123\n",
       "2     34\n",
       "Name: clusters, dtype: int64"
      ]
     },
     "execution_count": 15,
     "metadata": {},
     "output_type": "execute_result"
    }
   ],
   "source": [
    "#Count values in each cluster\n",
    "df['clusters'].value_counts()"
   ]
  },
  {
   "cell_type": "code",
   "execution_count": 16,
   "id": "e91b4fab",
   "metadata": {},
   "outputs": [
    {
     "data": {
      "text/plain": [
       "Index(['Municipality', 'Total_Acres_Open_Space', 'Total_Acres_In_Municipality',\n",
       "       'clusters'],\n",
       "      dtype='object')"
      ]
     },
     "execution_count": 16,
     "metadata": {},
     "output_type": "execute_result"
    }
   ],
   "source": [
    "df.columns"
   ]
  },
  {
   "cell_type": "code",
   "execution_count": 17,
   "id": "5176f2d9",
   "metadata": {},
   "outputs": [
    {
     "data": {
      "image/png": "[encoded data removed]",
      "text/plain": [
       "<Figure size 864x576 with 1 Axes>"
      ]
     },
     "metadata": {
      "needs_background": "light"
     },
     "output_type": "display_data"
    }
   ],
   "source": [
    "#Visualize the clusters in a scatterplot\n",
    "\n",
    "plt.figure(figsize=(12,8))\n",
    "ax = sns.scatterplot(x=df['Total_Acres_Open_Space'], y=df['Total_Acres_In_Municipality'], hue=kmeans.labels_, s=100) \n",
    "\n",
    "ax.grid(False)\n",
    "plt.xlabel('Total_Acres_Open_Space')\n",
    "plt.ylabel('Total_Acres_In_Municipality')\n",
    "plt.show()"
   ]
  },
  {
   "cell_type": "markdown",
   "id": "3064fdba",
   "metadata": {},
   "source": [
    "#The clusters make sense since it grouped the data by number of acres. The smallest number of acres are in pale pink, the largest amounts of acreage in both open space and total acres are in dark purple, and the values in between were clustered into a third pink-purple color. I find the dark purple clusters the most interesting because it grouped both points with lots of open space and points with lots of acreage but only a moderate amount of preserved open space together.\n",
    "\n",
    "#This version of the dataset is simplified as each exercise forces me to tailor the data to the lesson and now I don't have other variables in this dataset to compare. "
   ]
  },
  {
   "cell_type": "code",
   "execution_count": 18,
   "id": "0dd44961",
   "metadata": {},
   "outputs": [],
   "source": [
    "df.loc[df['clusters'] == 2, 'cluster'] = 'dark purple'\n",
    "df.loc[df['clusters'] == 1, 'cluster'] = 'purple'\n",
    "df.loc[df['clusters'] == 0, 'cluster'] = 'pink'"
   ]
  },
  {
   "cell_type": "code",
   "execution_count": 19,
   "id": "8e0e2ec4",
   "metadata": {},
   "outputs": [
    {
     "data": {
      "text/html": [
       "<div>\n",
       "<style scoped>\n",
       "    .dataframe tbody tr th:only-of-type {\n",
       "        vertical-align: middle;\n",
       "    }\n",
       "\n",
       "    .dataframe tbody tr th {\n",
       "        vertical-align: top;\n",
       "    }\n",
       "\n",
       "    .dataframe thead tr th {\n",
       "        text-align: left;\n",
       "    }\n",
       "\n",
       "    .dataframe thead tr:last-of-type th {\n",
       "        text-align: right;\n",
       "    }\n",
       "</style>\n",
       "<table border=\"1\" class=\"dataframe\">\n",
       "  <thead>\n",
       "    <tr>\n",
       "      <th></th>\n",
       "      <th colspan=\"2\" halign=\"left\">Total_Acres_Open_Space</th>\n",
       "      <th colspan=\"2\" halign=\"left\">Total_Acres_In_Municipality</th>\n",
       "    </tr>\n",
       "    <tr>\n",
       "      <th></th>\n",
       "      <th>mean</th>\n",
       "      <th>median</th>\n",
       "      <th>mean</th>\n",
       "      <th>median</th>\n",
       "    </tr>\n",
       "    <tr>\n",
       "      <th>cluster</th>\n",
       "      <th></th>\n",
       "      <th></th>\n",
       "      <th></th>\n",
       "      <th></th>\n",
       "    </tr>\n",
       "  </thead>\n",
       "  <tbody>\n",
       "    <tr>\n",
       "      <th>dark purple</th>\n",
       "      <td>24012.497983</td>\n",
       "      <td>19034.017745</td>\n",
       "      <td>40060.705882</td>\n",
       "      <td>39032.64</td>\n",
       "    </tr>\n",
       "    <tr>\n",
       "      <th>pink</th>\n",
       "      <td>395.976858</td>\n",
       "      <td>135.322249</td>\n",
       "      <td>2639.192343</td>\n",
       "      <td>1668.48</td>\n",
       "    </tr>\n",
       "    <tr>\n",
       "      <th>purple</th>\n",
       "      <td>4362.716518</td>\n",
       "      <td>2762.345834</td>\n",
       "      <td>18693.036748</td>\n",
       "      <td>17521.92</td>\n",
       "    </tr>\n",
       "  </tbody>\n",
       "</table>\n",
       "</div>"
      ],
      "text/plain": [
       "            Total_Acres_Open_Space               Total_Acres_In_Municipality  \\\n",
       "                              mean        median                        mean   \n",
       "cluster                                                                        \n",
       "dark purple           24012.497983  19034.017745                40060.705882   \n",
       "pink                    395.976858    135.322249                 2639.192343   \n",
       "purple                 4362.716518   2762.345834                18693.036748   \n",
       "\n",
       "                       \n",
       "               median  \n",
       "cluster                \n",
       "dark purple  39032.64  \n",
       "pink          1668.48  \n",
       "purple       17521.92  "
      ]
     },
     "execution_count": 19,
     "metadata": {},
     "output_type": "execute_result"
    }
   ],
   "source": [
    "df.groupby('cluster').agg({'Total_Acres_Open_Space':['mean', 'median'], \n",
    "                         'Total_Acres_In_Municipality':['mean', 'median']})"
   ]
  },
  {
   "cell_type": "markdown",
   "id": "570fe652",
   "metadata": {},
   "source": [
    "#This confirms what I saw in the clusters with the values increasing as the color darkens from pink to pink-purple to dark purple.\n",
    "The total amount of acres in a municpality isn't going to change as the entire state is incorporated. However, the amount of open space can expand or shrink depending on policies and local government. This could be useful for educating others about open space and encouraging them to consider the impact of their community on the state as a whole since everyone is connected. Visualizations are very powerful as a final deliverable. \n",
    "It would be also be interesting to run this analysis with other variables to see if there are any insights that couldn't be seen in the typical scatterplot. That would've been nice to have done this lesson right after the earlier lesson in which we made scatterplots!"
   ]
  },
  {
   "cell_type": "code",
   "execution_count": null,
   "id": "11abf687",
   "metadata": {},
   "outputs": [],
   "source": []
  }
 ],
 "metadata": {
  "kernelspec": {
   "display_name": "Python 3 (ipykernel)",
   "language": "python",
   "name": "python3"
  },
  "language_info": {
   "codemirror_mode": {
    "name": "ipython",
    "version": 3
   },
   "file_extension": ".py",
   "mimetype": "text/x-python",
   "name": "python",
   "nbconvert_exporter": "python",
   "pygments_lexer": "ipython3",
   "version": "3.9.7"
  }
 },
 "nbformat": 4,
 "nbformat_minor": 5
}
