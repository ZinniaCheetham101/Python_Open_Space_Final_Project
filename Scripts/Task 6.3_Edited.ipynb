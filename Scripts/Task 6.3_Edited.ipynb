{
 "cells": [
  {
   "cell_type": "markdown",
   "id": "3777f24e",
   "metadata": {},
   "source": [
    "# Set up Notebook"
   ]
  },
  {
   "cell_type": "code",
   "execution_count": 1,
   "id": "adad84c3",
   "metadata": {},
   "outputs": [],
   "source": [
    "import pandas as pd\n",
    "import numpy as np\n",
    "import seaborn as sns\n",
    "import matplotlib\n",
    "import os\n",
    "import folium\n",
    "import json"
   ]
  },
  {
   "cell_type": "code",
   "execution_count": 2,
   "id": "39460c32",
   "metadata": {},
   "outputs": [],
   "source": [
    "#Create a file path\n",
    "path= r'C:\\Users\\Zinnia\\Documents\\Career Foundry Data Analytics Course\\Achievement 6\\Data\\Edited 8_13_22'"
   ]
  },
  {
   "cell_type": "code",
   "execution_count": 3,
   "id": "57514ab9",
   "metadata": {},
   "outputs": [],
   "source": [
    "#Import Data\n",
    "df=pd.read_csv(os.path.join(path, 'County_Data_with_Coordinates.csv'), index_col=False)"
   ]
  },
  {
   "cell_type": "code",
   "execution_count": 4,
   "id": "c947b73a",
   "metadata": {},
   "outputs": [],
   "source": [
    "#Prompt matplotlib visuals to appear in the notebook \n",
    "\n",
    "%matplotlib inline"
   ]
  },
  {
   "cell_type": "code",
   "execution_count": 5,
   "id": "6f69f4e7",
   "metadata": {},
   "outputs": [
    {
     "data": {
      "text/plain": [
       "(21, 9)"
      ]
     },
     "execution_count": 5,
     "metadata": {},
     "output_type": "execute_result"
    }
   ],
   "source": [
    "df.shape"
   ]
  },
  {
   "cell_type": "code",
   "execution_count": 6,
   "id": "e3155fc4",
   "metadata": {},
   "outputs": [
    {
     "data": {
      "text/html": [
       "<div>\n",
       "<style scoped>\n",
       "    .dataframe tbody tr th:only-of-type {\n",
       "        vertical-align: middle;\n",
       "    }\n",
       "\n",
       "    .dataframe tbody tr th {\n",
       "        vertical-align: top;\n",
       "    }\n",
       "\n",
       "    .dataframe thead th {\n",
       "        text-align: right;\n",
       "    }\n",
       "</style>\n",
       "<table border=\"1\" class=\"dataframe\">\n",
       "  <thead>\n",
       "    <tr style=\"text-align: right;\">\n",
       "      <th></th>\n",
       "      <th>County</th>\n",
       "      <th>Latitude</th>\n",
       "      <th>Longitude</th>\n",
       "      <th>Total_Acres_Open_Space</th>\n",
       "      <th>Total_Num_Lots</th>\n",
       "      <th>Acres_In_County</th>\n",
       "      <th>Percent_Open_Space</th>\n",
       "      <th>Population_in_2020</th>\n",
       "      <th>Acres Open Space Per Person</th>\n",
       "    </tr>\n",
       "  </thead>\n",
       "  <tbody>\n",
       "    <tr>\n",
       "      <th>0</th>\n",
       "      <td>Atlantic</td>\n",
       "      <td>39.507885</td>\n",
       "      <td>-75.170510</td>\n",
       "      <td>6.954986e+04</td>\n",
       "      <td>6701</td>\n",
       "      <td>430000</td>\n",
       "      <td>0.09%</td>\n",
       "      <td>264650</td>\n",
       "      <td>0.262799</td>\n",
       "    </tr>\n",
       "    <tr>\n",
       "      <th>1</th>\n",
       "      <td>Bergen</td>\n",
       "      <td>40.947714</td>\n",
       "      <td>-74.364116</td>\n",
       "      <td>9.997008e+05</td>\n",
       "      <td>2316</td>\n",
       "      <td>157900</td>\n",
       "      <td>14.02%</td>\n",
       "      <td>931275</td>\n",
       "      <td>1.073475</td>\n",
       "    </tr>\n",
       "    <tr>\n",
       "      <th>2</th>\n",
       "      <td>Burlington</td>\n",
       "      <td>39.861181</td>\n",
       "      <td>-75.286718</td>\n",
       "      <td>1.035825e+06</td>\n",
       "      <td>9457</td>\n",
       "      <td>525000</td>\n",
       "      <td>35.33%</td>\n",
       "      <td>446301</td>\n",
       "      <td>2.320911</td>\n",
       "    </tr>\n",
       "    <tr>\n",
       "      <th>3</th>\n",
       "      <td>Camden</td>\n",
       "      <td>39.801846</td>\n",
       "      <td>-75.218956</td>\n",
       "      <td>8.374963e+05</td>\n",
       "      <td>1882</td>\n",
       "      <td>145500</td>\n",
       "      <td>20.28%</td>\n",
       "      <td>506721</td>\n",
       "      <td>1.652776</td>\n",
       "    </tr>\n",
       "    <tr>\n",
       "      <th>4</th>\n",
       "      <td>Cape May</td>\n",
       "      <td>39.055172</td>\n",
       "      <td>-75.378565</td>\n",
       "      <td>6.783120e+04</td>\n",
       "      <td>8992</td>\n",
       "      <td>397000</td>\n",
       "      <td>17.09%</td>\n",
       "      <td>92701</td>\n",
       "      <td>0.731720</td>\n",
       "    </tr>\n",
       "  </tbody>\n",
       "</table>\n",
       "</div>"
      ],
      "text/plain": [
       "       County   Latitude  Longitude  Total_Acres_Open_Space  Total_Num_Lots  \\\n",
       "0    Atlantic  39.507885 -75.170510            6.954986e+04            6701   \n",
       "1      Bergen  40.947714 -74.364116            9.997008e+05            2316   \n",
       "2  Burlington  39.861181 -75.286718            1.035825e+06            9457   \n",
       "3      Camden  39.801846 -75.218956            8.374963e+05            1882   \n",
       "4    Cape May  39.055172 -75.378565            6.783120e+04            8992   \n",
       "\n",
       "   Acres_In_County Percent_Open_Space  Population_in_2020  \\\n",
       "0           430000              0.09%              264650   \n",
       "1           157900             14.02%              931275   \n",
       "2           525000             35.33%              446301   \n",
       "3           145500             20.28%              506721   \n",
       "4           397000             17.09%               92701   \n",
       "\n",
       "   Acres Open Space Per Person  \n",
       "0                     0.262799  \n",
       "1                     1.073475  \n",
       "2                     2.320911  \n",
       "3                     1.652776  \n",
       "4                     0.731720  "
      ]
     },
     "execution_count": 6,
     "metadata": {},
     "output_type": "execute_result"
    }
   ],
   "source": [
    "df.head()"
   ]
  },
  {
   "cell_type": "code",
   "execution_count": 7,
   "id": "da2eff96",
   "metadata": {},
   "outputs": [],
   "source": [
    "#Import .json file for counties in NJ\n",
    "\n",
    "county_geo= r'C:\\Users\\Zinnia\\CountyData.json'"
   ]
  },
  {
   "cell_type": "markdown",
   "id": "99e9a9f5",
   "metadata": {},
   "source": [
    "# Data Wrangling"
   ]
  },
  {
   "cell_type": "markdown",
   "id": "33f888d7",
   "metadata": {},
   "source": [
    "#Confirmed that both are in Proper Case for the county name. All columns were set up for this analysis."
   ]
  },
  {
   "cell_type": "markdown",
   "id": "db10878d",
   "metadata": {},
   "source": [
    "# Conduct Consistency Checks"
   ]
  },
  {
   "cell_type": "code",
   "execution_count": 8,
   "id": "1a6f3814",
   "metadata": {},
   "outputs": [
    {
     "data": {
      "text/plain": [
       "County                         0\n",
       "Latitude                       0\n",
       "Longitude                      0\n",
       "Total_Acres_Open_Space         0\n",
       "Total_Num_Lots                 0\n",
       "Acres_In_County                0\n",
       "Percent_Open_Space             0\n",
       "Population_in_2020             0\n",
       "Acres Open Space Per Person    0\n",
       "dtype: int64"
      ]
     },
     "execution_count": 8,
     "metadata": {},
     "output_type": "execute_result"
    }
   ],
   "source": [
    "#Check for missing values\n",
    "df.isnull().sum()"
   ]
  },
  {
   "cell_type": "code",
   "execution_count": 9,
   "id": "058c554f",
   "metadata": {},
   "outputs": [],
   "source": [
    "#Check for duplicates\n",
    "dups = df.duplicated()"
   ]
  },
  {
   "cell_type": "code",
   "execution_count": 10,
   "id": "8bb4ba7f",
   "metadata": {},
   "outputs": [
    {
     "data": {
      "text/plain": [
       "(21,)"
      ]
     },
     "execution_count": 10,
     "metadata": {},
     "output_type": "execute_result"
    }
   ],
   "source": [
    "dups.shape"
   ]
  },
  {
   "cell_type": "markdown",
   "id": "c5169926",
   "metadata": {},
   "source": [
    "#No duplicates"
   ]
  },
  {
   "cell_type": "code",
   "execution_count": 11,
   "id": "e9985424",
   "metadata": {},
   "outputs": [
    {
     "data": {
      "text/plain": [
       "<AxesSubplot:xlabel='Total_Acres_Open_Space', ylabel='Count'>"
      ]
     },
     "execution_count": 11,
     "metadata": {},
     "output_type": "execute_result"
    },
    {
     "data": {
      "image/png": "[encoded data removed]",
      "text/plain": [
       "<Figure size 432x288 with 1 Axes>"
      ]
     },
     "metadata": {
      "needs_background": "light"
     },
     "output_type": "display_data"
    }
   ],
   "source": [
    "#Use histograms to look at the data set for issues\n",
    "sns.histplot(df['Total_Acres_Open_Space'], bins=20, kde=True)"
   ]
  },
  {
   "cell_type": "markdown",
   "id": "5097bf45",
   "metadata": {},
   "source": [
    "#It looks like the majority of counties have a low amount of open space"
   ]
  },
  {
   "cell_type": "code",
   "execution_count": 12,
   "id": "0c260585",
   "metadata": {},
   "outputs": [
    {
     "data": {
      "text/plain": [
       "<AxesSubplot:xlabel='Total_Num_Lots', ylabel='Count'>"
      ]
     },
     "execution_count": 12,
     "metadata": {},
     "output_type": "execute_result"
    },
    {
     "data": {
      "image/png": "[encoded data removed]",
      "text/plain": [
       "<Figure size 432x288 with 1 Axes>"
      ]
     },
     "metadata": {
      "needs_background": "light"
     },
     "output_type": "display_data"
    }
   ],
   "source": [
    "sns.histplot(df['Total_Num_Lots'], bins=20, kde=True)"
   ]
  },
  {
   "cell_type": "markdown",
   "id": "0f5d6539",
   "metadata": {},
   "source": [
    "#Ocean County also has the most lots with over 22,000 while the average is 4,297 lots in a county. "
   ]
  },
  {
   "cell_type": "code",
   "execution_count": 14,
   "id": "c11aeb13",
   "metadata": {},
   "outputs": [
    {
     "data": {
      "text/plain": [
       "<AxesSubplot:xlabel='Acres Open Space Per Person', ylabel='Count'>"
      ]
     },
     "execution_count": 14,
     "metadata": {},
     "output_type": "execute_result"
    },
    {
     "data": {
      "image/png": "[encoded data removed]",
      "text/plain": [
       "<Figure size 432x288 with 1 Axes>"
      ]
     },
     "metadata": {
      "needs_background": "light"
     },
     "output_type": "display_data"
    }
   ],
   "source": [
    "sns.histplot(df['Acres Open Space Per Person'], bins=20, kde=True)"
   ]
  },
  {
   "cell_type": "markdown",
   "id": "d4d74035",
   "metadata": {},
   "source": [
    "#This chart shows that most counties have a low amount of open space per person. Only one county has at least an acre per person. Surprisingly its Warren county. The population density makes the difference since warren county is a rural area."
   ]
  },
  {
   "cell_type": "code",
   "execution_count": 15,
   "id": "cfd1b4e1",
   "metadata": {},
   "outputs": [
    {
     "data": {
      "text/plain": [
       "County                          object\n",
       "Latitude                       float64\n",
       "Longitude                      float64\n",
       "Total_Acres_Open_Space         float64\n",
       "Total_Num_Lots                   int64\n",
       "Acres_In_County                  int64\n",
       "Percent_Open_Space              object\n",
       "Population_in_2020               int64\n",
       "Acres Open Space Per Person    float64\n",
       "dtype: object"
      ]
     },
     "execution_count": 15,
     "metadata": {},
     "output_type": "execute_result"
    }
   ],
   "source": [
    "df.dtypes"
   ]
  },
  {
   "cell_type": "markdown",
   "id": "8522bc83",
   "metadata": {},
   "source": [
    "# Plotting a chloropleth"
   ]
  },
  {
   "cell_type": "code",
   "execution_count": 16,
   "id": "7af125ad",
   "metadata": {},
   "outputs": [],
   "source": [
    "data_to_plot =df[['County','Total_Acres_Open_Space']]"
   ]
  },
  {
   "cell_type": "code",
   "execution_count": 17,
   "id": "6b69b38d",
   "metadata": {},
   "outputs": [
    {
     "data": {
      "text/plain": [
       "<folium.map.LayerControl at 0x207cd3674c0>"
      ]
     },
     "execution_count": 17,
     "metadata": {},
     "output_type": "execute_result"
    }
   ],
   "source": [
    "map = folium.Map(location = [100, 0], zoom_start = 1.5)\n",
    "\n",
    "folium.Choropleth(\n",
    "    geo_data = county_geo, \n",
    "    data = data_to_plot,\n",
    "    columns = ['County', 'Total_Acres_Open_Space'],\n",
    "    key_on = 'properties.county',\n",
    "    fill_color = 'YlOrBr', fill_opacity=0.6, line_opacity=0.1,\n",
    "    legend_name = \"County\").add_to(map)\n",
    "\n",
    "folium.LayerControl().add_to(map)"
   ]
  },
  {
   "cell_type": "code",
   "execution_count": 18,
   "id": "45e7a4ae",
   "metadata": {},
   "outputs": [],
   "source": [
    "map.save('Chloropleth_map.html')"
   ]
  },
  {
   "cell_type": "markdown",
   "id": "a6d9e80c",
   "metadata": {},
   "source": [
    "#I wasn't able to get my Jupyter notebook to \"trust\" but my map did save and looks correct! \n",
    "This task helped answer the question of how much open space is in each region of New Jersey. I could probably make a few more to see how the other data is spread through the state. \n",
    "\n",
    "During my data cleaning and wrangling process I thought of two new questions: \n",
    "What counties should be targeted for conservation of open space? \n",
    "Which have the least open space per person? Which have the lowest overall conservation rates?\n",
    "It was interesting to see that those with the most open space don't necessarily have the most open space per person. Central Jersey seems to have the most conserved open space while the most contiguous conserved open space is in Northwest NJ (which makes since since it is more farmland and mountains).\n"
   ]
  }
 ],
 "metadata": {
  "kernelspec": {
   "display_name": "Python 3 (ipykernel)",
   "language": "python",
   "name": "python3"
  },
  "language_info": {
   "codemirror_mode": {
    "name": "ipython",
    "version": 3
   },
   "file_extension": ".py",
   "mimetype": "text/x-python",
   "name": "python",
   "nbconvert_exporter": "python",
   "pygments_lexer": "ipython3",
   "version": "3.9.7"
  }
 },
 "nbformat": 4,
 "nbformat_minor": 5
}
