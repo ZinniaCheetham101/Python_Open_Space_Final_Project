{
 "cells": [
  {
   "cell_type": "code",
   "execution_count": 1,
   "id": "cf4fbd4b",
   "metadata": {},
   "outputs": [],
   "source": [
    "import pandas as pd\n",
    "import numpy as np\n",
    "import seaborn as sns\n",
    "import matplotlib\n",
    "import matplotlib.pyplot as plt\n",
    "import os\n",
    "import sklearn\n",
    "from sklearn.model_selection import train_test_split \n",
    "from sklearn.linear_model import LinearRegression\n",
    "from sklearn.metrics import mean_squared_error, r2_score"
   ]
  },
  {
   "cell_type": "code",
   "execution_count": 2,
   "id": "f2ce8ca9",
   "metadata": {},
   "outputs": [],
   "source": [
    "#Code to display graphs in the notebook\n",
    "%matplotlib inline"
   ]
  },
  {
   "cell_type": "code",
   "execution_count": 3,
   "id": "804e82f9",
   "metadata": {},
   "outputs": [],
   "source": [
    "#Create a file path\n",
    "path= r'C:\\Users\\Zinnia\\Documents\\Career Foundry Data Analytics Course\\Achievement 6\\Data\\Edited'"
   ]
  },
  {
   "cell_type": "code",
   "execution_count": 4,
   "id": "d50dc17c",
   "metadata": {},
   "outputs": [],
   "source": [
    "#Import Data\n",
    "df=pd.read_csv(os.path.join(path, 'County_Data_with_Coordinates.csv'), index_col=False)"
   ]
  },
  {
   "cell_type": "markdown",
   "id": "ce857c64",
   "metadata": {},
   "source": [
    "#Data checks and cleaning"
   ]
  },
  {
   "cell_type": "code",
   "execution_count": 5,
   "id": "c6fbbf36",
   "metadata": {},
   "outputs": [
    {
     "data": {
      "text/plain": [
       "Index(['County', 'Latitude', 'Longitude', 'Total_Acres_Open_Space',\n",
       "       'Total_Num_Lots', 'Acres_In_County', 'Percent_Open_Space',\n",
       "       'Population_in_2020', 'Percent_Open_Space_Per_Person'],\n",
       "      dtype='object')"
      ]
     },
     "execution_count": 5,
     "metadata": {},
     "output_type": "execute_result"
    }
   ],
   "source": [
    "df.columns"
   ]
  },
  {
   "cell_type": "code",
   "execution_count": 6,
   "id": "fcd1e081",
   "metadata": {
    "scrolled": true
   },
   "outputs": [
    {
     "data": {
      "text/html": [
       "<div>\n",
       "<style scoped>\n",
       "    .dataframe tbody tr th:only-of-type {\n",
       "        vertical-align: middle;\n",
       "    }\n",
       "\n",
       "    .dataframe tbody tr th {\n",
       "        vertical-align: top;\n",
       "    }\n",
       "\n",
       "    .dataframe thead th {\n",
       "        text-align: right;\n",
       "    }\n",
       "</style>\n",
       "<table border=\"1\" class=\"dataframe\">\n",
       "  <thead>\n",
       "    <tr style=\"text-align: right;\">\n",
       "      <th></th>\n",
       "      <th>County</th>\n",
       "      <th>Latitude</th>\n",
       "      <th>Longitude</th>\n",
       "      <th>Total_Acres_Open_Space</th>\n",
       "      <th>Total_Num_Lots</th>\n",
       "      <th>Acres_In_County</th>\n",
       "      <th>Percent_Open_Space</th>\n",
       "      <th>Population_in_2020</th>\n",
       "      <th>Percent_Open_Space_Per_Person</th>\n",
       "    </tr>\n",
       "  </thead>\n",
       "  <tbody>\n",
       "    <tr>\n",
       "      <th>0</th>\n",
       "      <td>Atlantic</td>\n",
       "      <td>39.507885</td>\n",
       "      <td>-75.170510</td>\n",
       "      <td>390.772836</td>\n",
       "      <td>6701</td>\n",
       "      <td>430000</td>\n",
       "      <td>0.09%</td>\n",
       "      <td>264650</td>\n",
       "      <td>0.00</td>\n",
       "    </tr>\n",
       "    <tr>\n",
       "      <th>1</th>\n",
       "      <td>Bergen</td>\n",
       "      <td>40.947714</td>\n",
       "      <td>-74.364116</td>\n",
       "      <td>22144.340800</td>\n",
       "      <td>2316</td>\n",
       "      <td>157900</td>\n",
       "      <td>14.02%</td>\n",
       "      <td>931275</td>\n",
       "      <td>0.02</td>\n",
       "    </tr>\n",
       "    <tr>\n",
       "      <th>2</th>\n",
       "      <td>Burlington</td>\n",
       "      <td>39.861181</td>\n",
       "      <td>-75.286718</td>\n",
       "      <td>185462.562900</td>\n",
       "      <td>9457</td>\n",
       "      <td>525000</td>\n",
       "      <td>35.33%</td>\n",
       "      <td>446301</td>\n",
       "      <td>0.42</td>\n",
       "    </tr>\n",
       "    <tr>\n",
       "      <th>3</th>\n",
       "      <td>Camden</td>\n",
       "      <td>39.801846</td>\n",
       "      <td>-75.218956</td>\n",
       "      <td>29503.784660</td>\n",
       "      <td>1882</td>\n",
       "      <td>145500</td>\n",
       "      <td>20.28%</td>\n",
       "      <td>506721</td>\n",
       "      <td>0.06</td>\n",
       "    </tr>\n",
       "    <tr>\n",
       "      <th>4</th>\n",
       "      <td>Cape May</td>\n",
       "      <td>39.055172</td>\n",
       "      <td>-75.378565</td>\n",
       "      <td>67831.195620</td>\n",
       "      <td>8992</td>\n",
       "      <td>397000</td>\n",
       "      <td>17.09%</td>\n",
       "      <td>92701</td>\n",
       "      <td>0.73</td>\n",
       "    </tr>\n",
       "  </tbody>\n",
       "</table>\n",
       "</div>"
      ],
      "text/plain": [
       "       County   Latitude  Longitude  Total_Acres_Open_Space  Total_Num_Lots  \\\n",
       "0    Atlantic  39.507885 -75.170510              390.772836            6701   \n",
       "1      Bergen  40.947714 -74.364116            22144.340800            2316   \n",
       "2  Burlington  39.861181 -75.286718           185462.562900            9457   \n",
       "3      Camden  39.801846 -75.218956            29503.784660            1882   \n",
       "4    Cape May  39.055172 -75.378565            67831.195620            8992   \n",
       "\n",
       "   Acres_In_County Percent_Open_Space  Population_in_2020  \\\n",
       "0           430000              0.09%              264650   \n",
       "1           157900             14.02%              931275   \n",
       "2           525000             35.33%              446301   \n",
       "3           145500             20.28%              506721   \n",
       "4           397000             17.09%               92701   \n",
       "\n",
       "   Percent_Open_Space_Per_Person  \n",
       "0                           0.00  \n",
       "1                           0.02  \n",
       "2                           0.42  \n",
       "3                           0.06  \n",
       "4                           0.73  "
      ]
     },
     "execution_count": 6,
     "metadata": {},
     "output_type": "execute_result"
    }
   ],
   "source": [
    "df.head()"
   ]
  },
  {
   "cell_type": "code",
   "execution_count": 7,
   "id": "989600fd",
   "metadata": {},
   "outputs": [
    {
     "data": {
      "text/plain": [
       "(21, 9)"
      ]
     },
     "execution_count": 7,
     "metadata": {},
     "output_type": "execute_result"
    }
   ],
   "source": [
    "df.shape"
   ]
  },
  {
   "cell_type": "code",
   "execution_count": 8,
   "id": "7eee6ec5",
   "metadata": {},
   "outputs": [
    {
     "data": {
      "text/plain": [
       "County                           0\n",
       "Latitude                         0\n",
       "Longitude                        0\n",
       "Total_Acres_Open_Space           0\n",
       "Total_Num_Lots                   0\n",
       "Acres_In_County                  0\n",
       "Percent_Open_Space               0\n",
       "Population_in_2020               0\n",
       "Percent_Open_Space_Per_Person    0\n",
       "dtype: int64"
      ]
     },
     "execution_count": 8,
     "metadata": {},
     "output_type": "execute_result"
    }
   ],
   "source": [
    "# Check for missing values\n",
    "\n",
    "df.isnull().sum()"
   ]
  },
  {
   "cell_type": "markdown",
   "id": "572af23d",
   "metadata": {},
   "source": [
    "#No missing values found"
   ]
  },
  {
   "cell_type": "code",
   "execution_count": 9,
   "id": "f2bba659",
   "metadata": {},
   "outputs": [],
   "source": [
    "#Check for duplicates\n",
    "dups = df.duplicated()"
   ]
  },
  {
   "cell_type": "code",
   "execution_count": 10,
   "id": "b61e723e",
   "metadata": {},
   "outputs": [
    {
     "data": {
      "text/plain": [
       "(21,)"
      ]
     },
     "execution_count": 10,
     "metadata": {},
     "output_type": "execute_result"
    }
   ],
   "source": [
    "dups.shape"
   ]
  },
  {
   "cell_type": "markdown",
   "id": "a1284371",
   "metadata": {},
   "source": [
    "#No duplicates found"
   ]
  },
  {
   "cell_type": "code",
   "execution_count": 11,
   "id": "087e4d9e",
   "metadata": {},
   "outputs": [
    {
     "data": {
      "text/plain": [
       "<AxesSubplot:xlabel='Total_Acres_Open_Space', ylabel='Count'>"
      ]
     },
     "execution_count": 11,
     "metadata": {},
     "output_type": "execute_result"
    },
    {
     "data": {
      "image/png": "[encoded data removed]",
      "text/plain": [
       "<Figure size 432x288 with 1 Axes>"
      ]
     },
     "metadata": {
      "needs_background": "light"
     },
     "output_type": "display_data"
    }
   ],
   "source": [
    "#Check for extreme values\n",
    "sns.histplot(df['Total_Acres_Open_Space'], bins=25)"
   ]
  },
  {
   "cell_type": "markdown",
   "id": "3182ea13",
   "metadata": {},
   "source": [
    "#I already looked into the outlier value in the last lesson for Ocean County. It is not an error and will be kept in the dataset."
   ]
  },
  {
   "cell_type": "code",
   "execution_count": 12,
   "id": "5ef97015",
   "metadata": {},
   "outputs": [
    {
     "data": {
      "text/plain": [
       "79146.72052709523"
      ]
     },
     "execution_count": 12,
     "metadata": {},
     "output_type": "execute_result"
    }
   ],
   "source": [
    "#More data checks\n",
    "df['Total_Acres_Open_Space'].mean()"
   ]
  },
  {
   "cell_type": "code",
   "execution_count": 13,
   "id": "9d6a055f",
   "metadata": {},
   "outputs": [
    {
     "data": {
      "text/plain": [
       "53156.53132"
      ]
     },
     "execution_count": 13,
     "metadata": {},
     "output_type": "execute_result"
    }
   ],
   "source": [
    "df['Total_Acres_Open_Space'].median()"
   ]
  },
  {
   "cell_type": "code",
   "execution_count": 14,
   "id": "6498141d",
   "metadata": {},
   "outputs": [
    {
     "data": {
      "text/plain": [
       "465602.5692"
      ]
     },
     "execution_count": 14,
     "metadata": {},
     "output_type": "execute_result"
    }
   ],
   "source": [
    "df['Total_Acres_Open_Space'].max()"
   ]
  },
  {
   "cell_type": "code",
   "execution_count": 15,
   "id": "7c40c189",
   "metadata": {},
   "outputs": [
    {
     "data": {
      "text/plain": [
       "390.772836"
      ]
     },
     "execution_count": 15,
     "metadata": {},
     "output_type": "execute_result"
    }
   ],
   "source": [
    "df['Total_Acres_Open_Space'].min()"
   ]
  },
  {
   "cell_type": "markdown",
   "id": "c1ad97b1",
   "metadata": {},
   "source": [
    "#My hypothesis is that there is a positive correlation between the total acres in the county/municipality and the amount of preserved open space in the county/municipality"
   ]
  },
  {
   "cell_type": "markdown",
   "id": "9509438b",
   "metadata": {},
   "source": [
    "## Regression Analysis"
   ]
  },
  {
   "cell_type": "code",
   "execution_count": 16,
   "id": "7dcfd012",
   "metadata": {},
   "outputs": [
    {
     "data": {
      "image/png": "[encoded data removed]",
      "text/plain": [
       "<Figure size 432x288 with 1 Axes>"
      ]
     },
     "metadata": {
      "needs_background": "light"
     },
     "output_type": "display_data"
    }
   ],
   "source": [
    "#Create a satterplot\n",
    "\n",
    "df.plot(x = 'Acres_In_County', y='Total_Acres_Open_Space',style='o')\n",
    "plt.title('County Acreage vs Total Acres of Open Space in the County')  \n",
    "plt.xlabel('Total Acres')  \n",
    "plt.ylabel('Acres of Preserved Open Space')  \n",
    "plt.show()"
   ]
  },
  {
   "cell_type": "markdown",
   "id": "d75d7fee",
   "metadata": {},
   "source": [
    "#This is already interesting! I can see a positive correlation between my variables at last!"
   ]
  },
  {
   "cell_type": "code",
   "execution_count": 17,
   "id": "3c918b8d",
   "metadata": {},
   "outputs": [],
   "source": [
    "#Put the variables into NumPy arrays as objects\n",
    "\n",
    "X = df['Acres_In_County'].values.reshape(-1,1)\n",
    "y = df['Total_Acres_Open_Space'].values.reshape(-1,1)"
   ]
  },
  {
   "cell_type": "code",
   "execution_count": 18,
   "id": "de49c954",
   "metadata": {},
   "outputs": [
    {
     "data": {
      "text/plain": [
       "array([[430000],\n",
       "       [157900],\n",
       "       [525000],\n",
       "       [145500],\n",
       "       [397000],\n",
       "       [434000],\n",
       "       [ 82960],\n",
       "       [215800],\n",
       "       [ 39880],\n",
       "       [280000],\n",
       "       [146500],\n",
       "       [206600],\n",
       "       [426000],\n",
       "       [308000],\n",
       "       [586000],\n",
       "       [ 62144],\n",
       "       [238300],\n",
       "       [195100],\n",
       "       [343000],\n",
       "       [ 67460],\n",
       "       [232200]], dtype=int64)"
      ]
     },
     "execution_count": 18,
     "metadata": {},
     "output_type": "execute_result"
    }
   ],
   "source": [
    "X"
   ]
  },
  {
   "cell_type": "code",
   "execution_count": 19,
   "id": "3950ca64",
   "metadata": {},
   "outputs": [
    {
     "data": {
      "text/plain": [
       "array([[3.90772836e+02],\n",
       "       [2.21443408e+04],\n",
       "       [1.85462563e+05],\n",
       "       [2.95037847e+04],\n",
       "       [6.78311956e+04],\n",
       "       [1.23480539e+05],\n",
       "       [2.35073222e+04],\n",
       "       [9.02694156e+04],\n",
       "       [4.20700670e+03],\n",
       "       [5.31565313e+04],\n",
       "       [6.27255131e+04],\n",
       "       [3.12383118e+04],\n",
       "       [5.37843531e+04],\n",
       "       [1.28067272e+05],\n",
       "       [4.65602569e+05],\n",
       "       [3.94739762e+04],\n",
       "       [2.57376486e+04],\n",
       "       [3.67112723e+04],\n",
       "       [9.17791582e+04],\n",
       "       [1.27217192e+04],\n",
       "       [1.14285866e+05]])"
      ]
     },
     "execution_count": 19,
     "metadata": {},
     "output_type": "execute_result"
    }
   ],
   "source": [
    "y"
   ]
  },
  {
   "cell_type": "code",
   "execution_count": 20,
   "id": "4ba50a36",
   "metadata": {},
   "outputs": [],
   "source": [
    "# Split data into a training set and a test set using the train_test_split function\n",
    "\n",
    "X_train, X_test, y_train, y_test = train_test_split(X, y, test_size=0.3, random_state=0)"
   ]
  },
  {
   "cell_type": "markdown",
   "id": "eedf54ca",
   "metadata": {},
   "source": [
    "#I had to condense my data down to the county level for the last geographic analysis and to the municipal level from the original all open space level. Now its so small that I don't think it will yield very accurate results but onward.."
   ]
  },
  {
   "cell_type": "code",
   "execution_count": 21,
   "id": "89e03f33",
   "metadata": {},
   "outputs": [],
   "source": [
    "# Create a regression object for the training set\n",
    "\n",
    "regression = LinearRegression()"
   ]
  },
  {
   "cell_type": "code",
   "execution_count": 22,
   "id": "210a3816",
   "metadata": {},
   "outputs": [
    {
     "data": {
      "text/plain": [
       "LinearRegression()"
      ]
     },
     "execution_count": 22,
     "metadata": {},
     "output_type": "execute_result"
    }
   ],
   "source": [
    "# Fit the regression object onto the training set.\n",
    "\n",
    "regression.fit(X_train, y_train)"
   ]
  },
  {
   "cell_type": "code",
   "execution_count": 23,
   "id": "8aacc668",
   "metadata": {},
   "outputs": [],
   "source": [
    "# Predict the values of y using X.\n",
    "\n",
    "y_predicted = regression.predict(X_test)"
   ]
  },
  {
   "cell_type": "code",
   "execution_count": 24,
   "id": "667993aa",
   "metadata": {},
   "outputs": [
    {
     "data": {
      "image/png": "[encoded data removed]",
      "text/plain": [
       "<Figure size 432x288 with 1 Axes>"
      ]
     },
     "metadata": {
      "needs_background": "light"
     },
     "output_type": "display_data"
    }
   ],
   "source": [
    "# Create a plot that shows the regression line from the model on the test set.\n",
    "\n",
    "plot_test = plt\n",
    "plot_test.scatter(X_test, y_test, color='gray', s = 15)\n",
    "plot_test.plot(X_test, y_predicted, color='red', linewidth =3)\n",
    "plot_test.title('County Acreage vs Total Acres of Open Space in the County (Test set)')\n",
    "plot_test.xlabel('Acres_In_County')\n",
    "plot_test.ylabel('Acres of Preserved Open Space')\n",
    "plot_test.show()"
   ]
  },
  {
   "cell_type": "code",
   "execution_count": 25,
   "id": "176d1b3c",
   "metadata": {},
   "outputs": [],
   "source": [
    "# Create objects that contain the model summary statistics.\n",
    "\n",
    "rmse = mean_squared_error(y_test, y_predicted) # This is the mean squared error\n",
    "r2 = r2_score(y_test, y_predicted) # This is the R2 score. "
   ]
  },
  {
   "cell_type": "code",
   "execution_count": 26,
   "id": "b7ab9523",
   "metadata": {},
   "outputs": [
    {
     "name": "stdout",
     "output_type": "stream",
     "text": [
      "Slope: [[0.19786698]]\n",
      "Mean squared error:  18248219663.48023\n",
      "R2 score:  0.16871077013026503\n"
     ]
    }
   ],
   "source": [
    "# Print the model summary statistics and evaluate the model\n",
    "\n",
    "print('Slope:' ,regression.coef_)\n",
    "print('Mean squared error: ', rmse)\n",
    "print('R2 score: ', r2)"
   ]
  },
  {
   "cell_type": "code",
   "execution_count": 27,
   "id": "a1c09583",
   "metadata": {},
   "outputs": [
    {
     "data": {
      "text/plain": [
       "array([[ 13144.72603273],\n",
       "       [ 66196.82115029],\n",
       "       [ 51198.50394191],\n",
       "       [ 36496.98720599],\n",
       "       [ 46133.1092119 ],\n",
       "       [ 34241.30361529],\n",
       "       [121203.84204646]])"
      ]
     },
     "execution_count": 27,
     "metadata": {},
     "output_type": "execute_result"
    }
   ],
   "source": [
    "y_predicted"
   ]
  },
  {
   "cell_type": "code",
   "execution_count": 28,
   "id": "478fc087",
   "metadata": {},
   "outputs": [
    {
     "data": {
      "text/html": [
       "<div>\n",
       "<style scoped>\n",
       "    .dataframe tbody tr th:only-of-type {\n",
       "        vertical-align: middle;\n",
       "    }\n",
       "\n",
       "    .dataframe tbody tr th {\n",
       "        vertical-align: top;\n",
       "    }\n",
       "\n",
       "    .dataframe thead th {\n",
       "        text-align: right;\n",
       "    }\n",
       "</style>\n",
       "<table border=\"1\" class=\"dataframe\">\n",
       "  <thead>\n",
       "    <tr style=\"text-align: right;\">\n",
       "      <th></th>\n",
       "      <th>Actual</th>\n",
       "      <th>Predicted</th>\n",
       "    </tr>\n",
       "  </thead>\n",
       "  <tbody>\n",
       "    <tr>\n",
       "      <th>0</th>\n",
       "      <td>4207.006703</td>\n",
       "      <td>13144.726033</td>\n",
       "    </tr>\n",
       "    <tr>\n",
       "      <th>1</th>\n",
       "      <td>128067.271700</td>\n",
       "      <td>66196.821150</td>\n",
       "    </tr>\n",
       "    <tr>\n",
       "      <th>2</th>\n",
       "      <td>114285.866100</td>\n",
       "      <td>51198.503942</td>\n",
       "    </tr>\n",
       "    <tr>\n",
       "      <th>3</th>\n",
       "      <td>22144.340800</td>\n",
       "      <td>36496.987206</td>\n",
       "    </tr>\n",
       "    <tr>\n",
       "      <th>4</th>\n",
       "      <td>31238.311850</td>\n",
       "      <td>46133.109212</td>\n",
       "    </tr>\n",
       "    <tr>\n",
       "      <th>5</th>\n",
       "      <td>62725.513100</td>\n",
       "      <td>34241.303615</td>\n",
       "    </tr>\n",
       "    <tr>\n",
       "      <th>6</th>\n",
       "      <td>465602.569200</td>\n",
       "      <td>121203.842046</td>\n",
       "    </tr>\n",
       "  </tbody>\n",
       "</table>\n",
       "</div>"
      ],
      "text/plain": [
       "          Actual      Predicted\n",
       "0    4207.006703   13144.726033\n",
       "1  128067.271700   66196.821150\n",
       "2  114285.866100   51198.503942\n",
       "3   22144.340800   36496.987206\n",
       "4   31238.311850   46133.109212\n",
       "5   62725.513100   34241.303615\n",
       "6  465602.569200  121203.842046"
      ]
     },
     "execution_count": 28,
     "metadata": {},
     "output_type": "execute_result"
    }
   ],
   "source": [
    "# Create a dataframe comparing the actual & predicted values of y\n",
    "\n",
    "data = pd.DataFrame({'Actual': y_test.flatten(), 'Predicted': y_predicted.flatten()})\n",
    "data.head(30)"
   ]
  },
  {
   "cell_type": "code",
   "execution_count": 29,
   "id": "1df77f33",
   "metadata": {},
   "outputs": [],
   "source": [
    "# Predict y\n",
    "\n",
    "y_predicted_train = regression.predict(X_train)"
   ]
  },
  {
   "cell_type": "code",
   "execution_count": 30,
   "id": "7ccfc6fe",
   "metadata": {},
   "outputs": [],
   "source": [
    "rmse = mean_squared_error(y_train, y_predicted_train)\n",
    "r2 = r2_score(y_train, y_predicted_train)"
   ]
  },
  {
   "cell_type": "code",
   "execution_count": 31,
   "id": "c287f979",
   "metadata": {},
   "outputs": [
    {
     "name": "stdout",
     "output_type": "stream",
     "text": [
      "Slope: [[0.19786698]]\n",
      "Mean squared error:  1428106304.4811788\n",
      "R2 score:  0.3757626902224904\n"
     ]
    }
   ],
   "source": [
    "#Check the model statistics for MSE and R2\n",
    "\n",
    "print('Slope:' ,regression.coef_)\n",
    "print('Mean squared error: ', rmse)\n",
    "print('R2 score: ', r2)"
   ]
  },
  {
   "cell_type": "code",
   "execution_count": 32,
   "id": "7d996430",
   "metadata": {},
   "outputs": [
    {
     "data": {
      "image/png": "[encoded data removed]",
      "text/plain": [
       "<Figure size 432x288 with 1 Axes>"
      ]
     },
     "metadata": {
      "needs_background": "light"
     },
     "output_type": "display_data"
    }
   ],
   "source": [
    "# Visualizing the test set results.\n",
    "\n",
    "plot_test = plt\n",
    "plot_test.scatter(X_train, y_train, color='green', s = 15)\n",
    "plot_test.plot(X_train, y_predicted_train, color='red', linewidth =3)\n",
    "plot_test.title('County Acreage vs Total Acres of Open Space in the County (Training set)')\n",
    "plot_test.xlabel('Acres_In_County')\n",
    "plot_test.ylabel('Acres of Preserved Open Space')\n",
    "plot_test.show()"
   ]
  },
  {
   "cell_type": "markdown",
   "id": "a067c49b",
   "metadata": {},
   "source": [
    "#This algorithim turned out results that are much lower than that of the municipal data! I'm glad I did both to compare them. This one also shows a regression line with a positive correlation in the middle of the data but the scale is much different and the accuracy would likely be quite off if this model was applied to the municipal dataset. "
   ]
  }
 ],
 "metadata": {
  "kernelspec": {
   "display_name": "Python 3 (ipykernel)",
   "language": "python",
   "name": "python3"
  },
  "language_info": {
   "codemirror_mode": {
    "name": "ipython",
    "version": 3
   },
   "file_extension": ".py",
   "mimetype": "text/x-python",
   "name": "python",
   "nbconvert_exporter": "python",
   "pygments_lexer": "ipython3",
   "version": "3.9.7"
  }
 },
 "nbformat": 4,
 "nbformat_minor": 5
}
