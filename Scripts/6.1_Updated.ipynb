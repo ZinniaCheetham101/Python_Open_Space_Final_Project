{
 "cells": [
  {
   "cell_type": "code",
   "execution_count": 1,
   "id": "b9b8e493",
   "metadata": {},
   "outputs": [],
   "source": [
    "#Import Libraries\n",
    "import pandas as pd\n",
    "import numpy as np\n",
    "import os"
   ]
  },
  {
   "cell_type": "code",
   "execution_count": 2,
   "id": "8618a280",
   "metadata": {},
   "outputs": [],
   "source": [
    "#Create a file path\n",
    "path= r'C:\\Users\\Zinnia\\Documents\\Career Foundry Data Analytics Course\\Achievement 6\\Data\\Edited'"
   ]
  },
  {
   "cell_type": "code",
   "execution_count": 3,
   "id": "e3abe59c",
   "metadata": {},
   "outputs": [],
   "source": [
    "#Import orders data using os\n",
    "df_Open_Space=pd.read_csv(os.path.join(path,'Open_Space_Edited.csv'), index_col=False)"
   ]
  },
  {
   "cell_type": "code",
   "execution_count": 4,
   "id": "e520ee52",
   "metadata": {},
   "outputs": [
    {
     "data": {
      "text/plain": [
       "(90700, 4)"
      ]
     },
     "execution_count": 4,
     "metadata": {},
     "output_type": "execute_result"
    }
   ],
   "source": [
    "#Begin gathering basic information on the Open Space dataset\n",
    "df_Open_Space.shape"
   ]
  },
  {
   "cell_type": "code",
   "execution_count": 5,
   "id": "601c477e",
   "metadata": {},
   "outputs": [
    {
     "data": {
      "text/html": [
       "<div>\n",
       "<style scoped>\n",
       "    .dataframe tbody tr th:only-of-type {\n",
       "        vertical-align: middle;\n",
       "    }\n",
       "\n",
       "    .dataframe tbody tr th {\n",
       "        vertical-align: top;\n",
       "    }\n",
       "\n",
       "    .dataframe thead th {\n",
       "        text-align: right;\n",
       "    }\n",
       "</style>\n",
       "<table border=\"1\" class=\"dataframe\">\n",
       "  <thead>\n",
       "    <tr style=\"text-align: right;\">\n",
       "      <th></th>\n",
       "      <th>Object_ID</th>\n",
       "      <th>County</th>\n",
       "      <th>Municipality</th>\n",
       "      <th>GIS_Acres</th>\n",
       "    </tr>\n",
       "  </thead>\n",
       "  <tbody>\n",
       "    <tr>\n",
       "      <th>0</th>\n",
       "      <td>3432</td>\n",
       "      <td>Atlantic</td>\n",
       "      <td>Absecon City</td>\n",
       "      <td>0.460114</td>\n",
       "    </tr>\n",
       "    <tr>\n",
       "      <th>1</th>\n",
       "      <td>6962</td>\n",
       "      <td>Atlantic</td>\n",
       "      <td>Absecon City</td>\n",
       "      <td>7.526387</td>\n",
       "    </tr>\n",
       "    <tr>\n",
       "      <th>2</th>\n",
       "      <td>12011</td>\n",
       "      <td>Atlantic</td>\n",
       "      <td>Absecon City</td>\n",
       "      <td>0.487085</td>\n",
       "    </tr>\n",
       "    <tr>\n",
       "      <th>3</th>\n",
       "      <td>12586</td>\n",
       "      <td>Atlantic</td>\n",
       "      <td>Absecon City</td>\n",
       "      <td>0.123967</td>\n",
       "    </tr>\n",
       "    <tr>\n",
       "      <th>4</th>\n",
       "      <td>13334</td>\n",
       "      <td>Atlantic</td>\n",
       "      <td>Absecon City</td>\n",
       "      <td>0.460114</td>\n",
       "    </tr>\n",
       "  </tbody>\n",
       "</table>\n",
       "</div>"
      ],
      "text/plain": [
       "   Object_ID    County  Municipality  GIS_Acres\n",
       "0       3432  Atlantic  Absecon City   0.460114\n",
       "1       6962  Atlantic  Absecon City   7.526387\n",
       "2      12011  Atlantic  Absecon City   0.487085\n",
       "3      12586  Atlantic  Absecon City   0.123967\n",
       "4      13334  Atlantic  Absecon City   0.460114"
      ]
     },
     "execution_count": 5,
     "metadata": {},
     "output_type": "execute_result"
    }
   ],
   "source": [
    "df_Open_Space.head()"
   ]
  },
  {
   "cell_type": "code",
   "execution_count": 6,
   "id": "585bf8e1",
   "metadata": {},
   "outputs": [
    {
     "data": {
      "text/plain": [
       "Object_ID         int64\n",
       "County           object\n",
       "Municipality     object\n",
       "GIS_Acres       float64\n",
       "dtype: object"
      ]
     },
     "execution_count": 6,
     "metadata": {},
     "output_type": "execute_result"
    }
   ],
   "source": [
    "#Check data types for all columns\n",
    "df_Open_Space.dtypes"
   ]
  },
  {
   "cell_type": "code",
   "execution_count": 7,
   "id": "074e8f58",
   "metadata": {},
   "outputs": [
    {
     "data": {
      "text/plain": [
       "Index(['Object_ID', 'County', 'Municipality', 'GIS_Acres'], dtype='object')"
      ]
     },
     "execution_count": 7,
     "metadata": {},
     "output_type": "execute_result"
    }
   ],
   "source": [
    "#Pull up list of all columns\n",
    "df_Open_Space.columns"
   ]
  },
  {
   "cell_type": "code",
   "execution_count": 8,
   "id": "8eb4e25b",
   "metadata": {},
   "outputs": [
    {
     "data": {
      "text/plain": [
       "3432     1\n",
       "16226    1\n",
       "14626    1\n",
       "14491    1\n",
       "14309    1\n",
       "        ..\n",
       "14318    1\n",
       "14133    1\n",
       "12679    1\n",
       "12286    1\n",
       "8369     1\n",
       "Name: Object_ID, Length: 90700, dtype: int64"
      ]
     },
     "execution_count": 8,
     "metadata": {},
     "output_type": "execute_result"
    }
   ],
   "source": [
    "#Check value counts for Object ID\n",
    "df_Open_Space['Object_ID'].value_counts(dropna = False)"
   ]
  },
  {
   "cell_type": "code",
   "execution_count": 9,
   "id": "239f6508",
   "metadata": {},
   "outputs": [
    {
     "data": {
      "text/html": [
       "<div>\n",
       "<style scoped>\n",
       "    .dataframe tbody tr th:only-of-type {\n",
       "        vertical-align: middle;\n",
       "    }\n",
       "\n",
       "    .dataframe tbody tr th {\n",
       "        vertical-align: top;\n",
       "    }\n",
       "\n",
       "    .dataframe thead th {\n",
       "        text-align: right;\n",
       "    }\n",
       "</style>\n",
       "<table border=\"1\" class=\"dataframe\">\n",
       "  <thead>\n",
       "    <tr style=\"text-align: right;\">\n",
       "      <th></th>\n",
       "      <th>Object_ID</th>\n",
       "      <th>County</th>\n",
       "      <th>Municipality</th>\n",
       "      <th>GIS_Acres</th>\n",
       "    </tr>\n",
       "  </thead>\n",
       "  <tbody>\n",
       "  </tbody>\n",
       "</table>\n",
       "</div>"
      ],
      "text/plain": [
       "Empty DataFrame\n",
       "Columns: [Object_ID, County, Municipality, GIS_Acres]\n",
       "Index: []"
      ]
     },
     "execution_count": 9,
     "metadata": {},
     "output_type": "execute_result"
    }
   ],
   "source": [
    "#Check for duplicates\n",
    "df_Open_Space[df_Open_Space.duplicated()]"
   ]
  },
  {
   "cell_type": "code",
   "execution_count": 10,
   "id": "219413bc",
   "metadata": {},
   "outputs": [
    {
     "data": {
      "text/plain": [
       "count    90700.000000\n",
       "mean        12.564673\n",
       "std         90.237723\n",
       "min          0.000027\n",
       "25%          0.057393\n",
       "50%          0.229429\n",
       "75%          3.314741\n",
       "max       7835.686132\n",
       "Name: GIS_Acres, dtype: float64"
      ]
     },
     "execution_count": 10,
     "metadata": {},
     "output_type": "execute_result"
    }
   ],
   "source": [
    "#Generate descriptive statistics for key numeric data\n",
    "df_Open_Space['GIS_Acres'].describe()"
   ]
  },
  {
   "cell_type": "code",
   "execution_count": 11,
   "id": "c683ca5e",
   "metadata": {},
   "outputs": [],
   "source": [
    "#Import orders data using os\n",
    "df_Rutgers=pd.read_csv(os.path.join(path,'Rutgers_Data_Edited.csv'), index_col=False)"
   ]
  },
  {
   "cell_type": "code",
   "execution_count": 12,
   "id": "098f1aa7",
   "metadata": {},
   "outputs": [
    {
     "data": {
      "text/plain": [
       "(565, 13)"
      ]
     },
     "execution_count": 12,
     "metadata": {},
     "output_type": "execute_result"
    }
   ],
   "source": [
    "#Begin gathering basic information on the Rutgers dataset\n",
    "df_Rutgers.shape"
   ]
  },
  {
   "cell_type": "code",
   "execution_count": 13,
   "id": "565ff528",
   "metadata": {},
   "outputs": [
    {
     "data": {
      "text/html": [
       "<div>\n",
       "<style scoped>\n",
       "    .dataframe tbody tr th:only-of-type {\n",
       "        vertical-align: middle;\n",
       "    }\n",
       "\n",
       "    .dataframe tbody tr th {\n",
       "        vertical-align: top;\n",
       "    }\n",
       "\n",
       "    .dataframe thead th {\n",
       "        text-align: right;\n",
       "    }\n",
       "</style>\n",
       "<table border=\"1\" class=\"dataframe\">\n",
       "  <thead>\n",
       "    <tr style=\"text-align: right;\">\n",
       "      <th></th>\n",
       "      <th>County</th>\n",
       "      <th>Municipality</th>\n",
       "      <th>2019: Area</th>\n",
       "      <th>2021: Area</th>\n",
       "      <th>2019: Census Population</th>\n",
       "      <th>2021: Census Population</th>\n",
       "      <th>2020: Workforce</th>\n",
       "      <th>2020: % Unemployed</th>\n",
       "      <th>2017: Average Residential Property Value ($)</th>\n",
       "      <th>2020: Average Residential Property Value ($)</th>\n",
       "      <th>2020: Municipal Budget per Capita ($)</th>\n",
       "      <th>2018: % Democrats</th>\n",
       "      <th>2018: % Republicans</th>\n",
       "    </tr>\n",
       "  </thead>\n",
       "  <tbody>\n",
       "    <tr>\n",
       "      <th>0</th>\n",
       "      <td>Atlantic</td>\n",
       "      <td>Absecon</td>\n",
       "      <td>5.40</td>\n",
       "      <td>5.47</td>\n",
       "      <td>8411</td>\n",
       "      <td>9137</td>\n",
       "      <td>4437</td>\n",
       "      <td>17.33</td>\n",
       "      <td>176556.0</td>\n",
       "      <td>170824.0</td>\n",
       "      <td>1240</td>\n",
       "      <td>29.76</td>\n",
       "      <td>28.89</td>\n",
       "    </tr>\n",
       "    <tr>\n",
       "      <th>1</th>\n",
       "      <td>Atlantic</td>\n",
       "      <td>Atlantic City</td>\n",
       "      <td>10.75</td>\n",
       "      <td>10.76</td>\n",
       "      <td>39558</td>\n",
       "      <td>38497</td>\n",
       "      <td>15995</td>\n",
       "      <td>25.71</td>\n",
       "      <td>127451.0</td>\n",
       "      <td>144901.0</td>\n",
       "      <td>5609</td>\n",
       "      <td>94.97</td>\n",
       "      <td>9.41</td>\n",
       "    </tr>\n",
       "    <tr>\n",
       "      <th>2</th>\n",
       "      <td>Atlantic</td>\n",
       "      <td>Brigantine</td>\n",
       "      <td>6.39</td>\n",
       "      <td>6.52</td>\n",
       "      <td>9450</td>\n",
       "      <td>7716</td>\n",
       "      <td>4182</td>\n",
       "      <td>14.78</td>\n",
       "      <td>365841.0</td>\n",
       "      <td>383187.0</td>\n",
       "      <td>3562</td>\n",
       "      <td>22.24</td>\n",
       "      <td>42.13</td>\n",
       "    </tr>\n",
       "    <tr>\n",
       "      <th>3</th>\n",
       "      <td>Atlantic</td>\n",
       "      <td>Buena</td>\n",
       "      <td>7.58</td>\n",
       "      <td>7.57</td>\n",
       "      <td>4603</td>\n",
       "      <td>4501</td>\n",
       "      <td>1800</td>\n",
       "      <td>12.67</td>\n",
       "      <td>161849.0</td>\n",
       "      <td>160417.0</td>\n",
       "      <td>1160</td>\n",
       "      <td>26.02</td>\n",
       "      <td>28.02</td>\n",
       "    </tr>\n",
       "    <tr>\n",
       "      <th>4</th>\n",
       "      <td>Atlantic</td>\n",
       "      <td>Buena Vista</td>\n",
       "      <td>41.05</td>\n",
       "      <td>41.08</td>\n",
       "      <td>7570</td>\n",
       "      <td>7033</td>\n",
       "      <td>3052</td>\n",
       "      <td>14.29</td>\n",
       "      <td>195402.0</td>\n",
       "      <td>207713.0</td>\n",
       "      <td>709</td>\n",
       "      <td>35.38</td>\n",
       "      <td>24.35</td>\n",
       "    </tr>\n",
       "  </tbody>\n",
       "</table>\n",
       "</div>"
      ],
      "text/plain": [
       "     County   Municipality  2019: Area  2021: Area  2019: Census Population  \\\n",
       "0  Atlantic        Absecon        5.40        5.47                     8411   \n",
       "1  Atlantic  Atlantic City       10.75       10.76                    39558   \n",
       "2  Atlantic     Brigantine        6.39        6.52                     9450   \n",
       "3  Atlantic          Buena        7.58        7.57                     4603   \n",
       "4  Atlantic    Buena Vista       41.05       41.08                     7570   \n",
       "\n",
       "   2021: Census Population  2020: Workforce  2020: % Unemployed  \\\n",
       "0                     9137             4437               17.33   \n",
       "1                    38497            15995               25.71   \n",
       "2                     7716             4182               14.78   \n",
       "3                     4501             1800               12.67   \n",
       "4                     7033             3052               14.29   \n",
       "\n",
       "   2017: Average Residential Property Value ($)  \\\n",
       "0                                      176556.0   \n",
       "1                                      127451.0   \n",
       "2                                      365841.0   \n",
       "3                                      161849.0   \n",
       "4                                      195402.0   \n",
       "\n",
       "   2020: Average Residential Property Value ($)  \\\n",
       "0                                      170824.0   \n",
       "1                                      144901.0   \n",
       "2                                      383187.0   \n",
       "3                                      160417.0   \n",
       "4                                      207713.0   \n",
       "\n",
       "   2020: Municipal Budget per Capita ($)  2018: % Democrats  \\\n",
       "0                                   1240              29.76   \n",
       "1                                   5609              94.97   \n",
       "2                                   3562              22.24   \n",
       "3                                   1160              26.02   \n",
       "4                                    709              35.38   \n",
       "\n",
       "   2018: % Republicans  \n",
       "0                28.89  \n",
       "1                 9.41  \n",
       "2                42.13  \n",
       "3                28.02  \n",
       "4                24.35  "
      ]
     },
     "execution_count": 13,
     "metadata": {},
     "output_type": "execute_result"
    }
   ],
   "source": [
    "df_Rutgers.head()"
   ]
  },
  {
   "cell_type": "code",
   "execution_count": 14,
   "id": "4dd23074",
   "metadata": {},
   "outputs": [
    {
     "data": {
      "text/plain": [
       "County                                           object\n",
       "Municipality                                     object\n",
       "2019: Area                                      float64\n",
       "2021: Area                                      float64\n",
       "2019: Census Population                           int64\n",
       "2021: Census Population                           int64\n",
       "2020: Workforce                                   int64\n",
       "2020: % Unemployed                              float64\n",
       "2017: Average Residential Property Value ($)    float64\n",
       "2020: Average Residential Property Value ($)    float64\n",
       "2020: Municipal Budget per Capita ($)             int64\n",
       "2018: % Democrats                               float64\n",
       "2018: % Republicans                             float64\n",
       "dtype: object"
      ]
     },
     "execution_count": 14,
     "metadata": {},
     "output_type": "execute_result"
    }
   ],
   "source": [
    "#Look at data types\n",
    "df_Rutgers.dtypes"
   ]
  },
  {
   "cell_type": "code",
   "execution_count": 15,
   "id": "797db326",
   "metadata": {},
   "outputs": [
    {
     "data": {
      "text/html": [
       "<div>\n",
       "<style scoped>\n",
       "    .dataframe tbody tr th:only-of-type {\n",
       "        vertical-align: middle;\n",
       "    }\n",
       "\n",
       "    .dataframe tbody tr th {\n",
       "        vertical-align: top;\n",
       "    }\n",
       "\n",
       "    .dataframe thead th {\n",
       "        text-align: right;\n",
       "    }\n",
       "</style>\n",
       "<table border=\"1\" class=\"dataframe\">\n",
       "  <thead>\n",
       "    <tr style=\"text-align: right;\">\n",
       "      <th></th>\n",
       "      <th>County</th>\n",
       "      <th>Municipality</th>\n",
       "      <th>2019: Area</th>\n",
       "      <th>2021: Area</th>\n",
       "      <th>2019: Census Population</th>\n",
       "      <th>2021: Census Population</th>\n",
       "      <th>2020: Workforce</th>\n",
       "      <th>2020: % Unemployed</th>\n",
       "      <th>2017: Average Residential Property Value ($)</th>\n",
       "      <th>2020: Average Residential Property Value ($)</th>\n",
       "      <th>2020: Municipal Budget per Capita ($)</th>\n",
       "      <th>2018: % Democrats</th>\n",
       "      <th>2018: % Republicans</th>\n",
       "    </tr>\n",
       "  </thead>\n",
       "  <tbody>\n",
       "  </tbody>\n",
       "</table>\n",
       "</div>"
      ],
      "text/plain": [
       "Empty DataFrame\n",
       "Columns: [County, Municipality, 2019: Area, 2021: Area, 2019: Census Population, 2021: Census Population, 2020: Workforce, 2020: % Unemployed, 2017: Average Residential Property Value ($), 2020: Average Residential Property Value ($), 2020: Municipal Budget per Capita ($), 2018: % Democrats, 2018: % Republicans]\n",
       "Index: []"
      ]
     },
     "execution_count": 15,
     "metadata": {},
     "output_type": "execute_result"
    }
   ],
   "source": [
    "#Check for duplicates\n",
    "df_Rutgers[df_Rutgers.duplicated()]"
   ]
  },
  {
   "cell_type": "code",
   "execution_count": 16,
   "id": "ef552db8",
   "metadata": {},
   "outputs": [
    {
     "data": {
      "text/plain": [
       "count    565.000000\n",
       "mean      13.017115\n",
       "std       18.041215\n",
       "min        0.090000\n",
       "25%        1.570000\n",
       "50%        4.270000\n",
       "75%       19.160000\n",
       "max      110.900000\n",
       "Name: 2021: Area, dtype: float64"
      ]
     },
     "execution_count": 16,
     "metadata": {},
     "output_type": "execute_result"
    }
   ],
   "source": [
    "#Generate descriptive statistics for some of the numeric columns\n",
    "df_Rutgers['2021: Area'].describe()"
   ]
  },
  {
   "cell_type": "code",
   "execution_count": 17,
   "id": "8cc82840",
   "metadata": {},
   "outputs": [
    {
     "data": {
      "text/plain": [
       "count       565.000000\n",
       "mean      16440.697345\n",
       "std       26186.989006\n",
       "min           7.000000\n",
       "25%        3643.000000\n",
       "50%        8374.000000\n",
       "75%       19450.000000\n",
       "max      311549.000000\n",
       "Name: 2021: Census Population, dtype: float64"
      ]
     },
     "execution_count": 17,
     "metadata": {},
     "output_type": "execute_result"
    }
   ],
   "source": [
    "df_Rutgers['2021: Census Population'].describe()"
   ]
  },
  {
   "cell_type": "code",
   "execution_count": 18,
   "id": "3f27418c",
   "metadata": {},
   "outputs": [
    {
     "data": {
      "text/plain": [
       "count    565.000000\n",
       "mean       9.218796\n",
       "std        2.813982\n",
       "min        0.000000\n",
       "25%        7.550000\n",
       "50%        8.740000\n",
       "75%       10.530000\n",
       "max       25.710000\n",
       "Name: 2020: % Unemployed, dtype: float64"
      ]
     },
     "execution_count": 18,
     "metadata": {},
     "output_type": "execute_result"
    }
   ],
   "source": [
    "df_Rutgers['2020: % Unemployed'].describe()"
   ]
  },
  {
   "cell_type": "code",
   "execution_count": 19,
   "id": "f5b40909",
   "metadata": {},
   "outputs": [
    {
     "data": {
      "text/plain": [
       "count    565.000000\n",
       "mean      32.731257\n",
       "std       12.214283\n",
       "min       10.490000\n",
       "25%       23.160000\n",
       "50%       29.900000\n",
       "75%       40.310000\n",
       "max       94.970000\n",
       "Name: 2018: % Democrats, dtype: float64"
      ]
     },
     "execution_count": 19,
     "metadata": {},
     "output_type": "execute_result"
    }
   ],
   "source": [
    "df_Rutgers['2018: % Democrats'].describe()"
   ]
  },
  {
   "cell_type": "markdown",
   "id": "108462a7",
   "metadata": {},
   "source": [
    "#Group the data and find the sum of the acreage for each municipality"
   ]
  },
  {
   "cell_type": "code",
   "execution_count": 20,
   "id": "3997ab13",
   "metadata": {},
   "outputs": [
    {
     "data": {
      "text/plain": [
       "Municipality\n",
       "Aberdeen Township       632.434504\n",
       "Absecon City            390.772836\n",
       "Alexandria Township    1129.808736\n",
       "Allamuchy Township     5719.500007\n",
       "Allendale Borough       217.481640\n",
       "                          ...     \n",
       "Woodlynne Borough         5.957248\n",
       "Woodstown Borough       165.070761\n",
       "Woolwich Township       894.508264\n",
       "Wrightstown Borough      20.874133\n",
       "Wyckoff Township        151.570642\n",
       "Name: GIS_Acres, Length: 535, dtype: float64"
      ]
     },
     "execution_count": 20,
     "metadata": {},
     "output_type": "execute_result"
    }
   ],
   "source": [
    "df_Open_Space.groupby(['Municipality'])['GIS_Acres'].sum()"
   ]
  },
  {
   "cell_type": "code",
   "execution_count": 21,
   "id": "030d67cb",
   "metadata": {},
   "outputs": [],
   "source": [
    "#Create a new column for the total acreage\n",
    "df_Open_Space['Total_Acres']=df_Open_Space.groupby(['Municipality'])['GIS_Acres'].transform('sum')"
   ]
  },
  {
   "cell_type": "code",
   "execution_count": 22,
   "id": "df768442",
   "metadata": {},
   "outputs": [
    {
     "data": {
      "text/plain": [
       "(90700, 5)"
      ]
     },
     "execution_count": 22,
     "metadata": {},
     "output_type": "execute_result"
    }
   ],
   "source": [
    "#Check the shape of the dataframe again\n",
    "df_Open_Space.shape"
   ]
  },
  {
   "cell_type": "code",
   "execution_count": 23,
   "id": "d7cd4cbe",
   "metadata": {},
   "outputs": [
    {
     "data": {
      "text/html": [
       "<div>\n",
       "<style scoped>\n",
       "    .dataframe tbody tr th:only-of-type {\n",
       "        vertical-align: middle;\n",
       "    }\n",
       "\n",
       "    .dataframe tbody tr th {\n",
       "        vertical-align: top;\n",
       "    }\n",
       "\n",
       "    .dataframe thead th {\n",
       "        text-align: right;\n",
       "    }\n",
       "</style>\n",
       "<table border=\"1\" class=\"dataframe\">\n",
       "  <thead>\n",
       "    <tr style=\"text-align: right;\">\n",
       "      <th></th>\n",
       "      <th>Object_ID</th>\n",
       "      <th>County</th>\n",
       "      <th>Municipality</th>\n",
       "      <th>GIS_Acres</th>\n",
       "      <th>Total_Acres</th>\n",
       "    </tr>\n",
       "  </thead>\n",
       "  <tbody>\n",
       "    <tr>\n",
       "      <th>0</th>\n",
       "      <td>3432</td>\n",
       "      <td>Atlantic</td>\n",
       "      <td>Absecon City</td>\n",
       "      <td>0.460114</td>\n",
       "      <td>390.772836</td>\n",
       "    </tr>\n",
       "    <tr>\n",
       "      <th>1</th>\n",
       "      <td>6962</td>\n",
       "      <td>Atlantic</td>\n",
       "      <td>Absecon City</td>\n",
       "      <td>7.526387</td>\n",
       "      <td>390.772836</td>\n",
       "    </tr>\n",
       "    <tr>\n",
       "      <th>2</th>\n",
       "      <td>12011</td>\n",
       "      <td>Atlantic</td>\n",
       "      <td>Absecon City</td>\n",
       "      <td>0.487085</td>\n",
       "      <td>390.772836</td>\n",
       "    </tr>\n",
       "    <tr>\n",
       "      <th>3</th>\n",
       "      <td>12586</td>\n",
       "      <td>Atlantic</td>\n",
       "      <td>Absecon City</td>\n",
       "      <td>0.123967</td>\n",
       "      <td>390.772836</td>\n",
       "    </tr>\n",
       "    <tr>\n",
       "      <th>4</th>\n",
       "      <td>13334</td>\n",
       "      <td>Atlantic</td>\n",
       "      <td>Absecon City</td>\n",
       "      <td>0.460114</td>\n",
       "      <td>390.772836</td>\n",
       "    </tr>\n",
       "  </tbody>\n",
       "</table>\n",
       "</div>"
      ],
      "text/plain": [
       "   Object_ID    County  Municipality  GIS_Acres  Total_Acres\n",
       "0       3432  Atlantic  Absecon City   0.460114   390.772836\n",
       "1       6962  Atlantic  Absecon City   7.526387   390.772836\n",
       "2      12011  Atlantic  Absecon City   0.487085   390.772836\n",
       "3      12586  Atlantic  Absecon City   0.123967   390.772836\n",
       "4      13334  Atlantic  Absecon City   0.460114   390.772836"
      ]
     },
     "execution_count": 23,
     "metadata": {},
     "output_type": "execute_result"
    }
   ],
   "source": [
    "#Pull up the data for a visual check (Number was double checked in Excel to confirm as well)\n",
    "df_Open_Space.head()"
   ]
  },
  {
   "cell_type": "code",
   "execution_count": 24,
   "id": "a72710c1",
   "metadata": {},
   "outputs": [],
   "source": [
    "df_Open_Space = df_Open_Space.drop(columns = ['GIS_Acres'])"
   ]
  },
  {
   "cell_type": "code",
   "execution_count": 25,
   "id": "f01075cc",
   "metadata": {},
   "outputs": [],
   "source": [
    "df_Open_Space = df_Open_Space.drop(columns = ['Object_ID'])"
   ]
  },
  {
   "cell_type": "code",
   "execution_count": 26,
   "id": "23a9b18e",
   "metadata": {},
   "outputs": [
    {
     "data": {
      "text/plain": [
       "Index(['County', 'Municipality', 'Total_Acres'], dtype='object')"
      ]
     },
     "execution_count": 26,
     "metadata": {},
     "output_type": "execute_result"
    }
   ],
   "source": [
    "df_Open_Space.columns"
   ]
  },
  {
   "cell_type": "code",
   "execution_count": 27,
   "id": "1acec0d1",
   "metadata": {},
   "outputs": [
    {
     "data": {
      "text/html": [
       "<div>\n",
       "<style scoped>\n",
       "    .dataframe tbody tr th:only-of-type {\n",
       "        vertical-align: middle;\n",
       "    }\n",
       "\n",
       "    .dataframe tbody tr th {\n",
       "        vertical-align: top;\n",
       "    }\n",
       "\n",
       "    .dataframe thead th {\n",
       "        text-align: right;\n",
       "    }\n",
       "</style>\n",
       "<table border=\"1\" class=\"dataframe\">\n",
       "  <thead>\n",
       "    <tr style=\"text-align: right;\">\n",
       "      <th></th>\n",
       "      <th>County</th>\n",
       "      <th>Municipality</th>\n",
       "      <th>Total_Acres</th>\n",
       "    </tr>\n",
       "  </thead>\n",
       "  <tbody>\n",
       "    <tr>\n",
       "      <th>1</th>\n",
       "      <td>Atlantic</td>\n",
       "      <td>Absecon City</td>\n",
       "      <td>390.772836</td>\n",
       "    </tr>\n",
       "    <tr>\n",
       "      <th>2</th>\n",
       "      <td>Atlantic</td>\n",
       "      <td>Absecon City</td>\n",
       "      <td>390.772836</td>\n",
       "    </tr>\n",
       "    <tr>\n",
       "      <th>3</th>\n",
       "      <td>Atlantic</td>\n",
       "      <td>Absecon City</td>\n",
       "      <td>390.772836</td>\n",
       "    </tr>\n",
       "    <tr>\n",
       "      <th>4</th>\n",
       "      <td>Atlantic</td>\n",
       "      <td>Absecon City</td>\n",
       "      <td>390.772836</td>\n",
       "    </tr>\n",
       "    <tr>\n",
       "      <th>5</th>\n",
       "      <td>Atlantic</td>\n",
       "      <td>Absecon City</td>\n",
       "      <td>390.772836</td>\n",
       "    </tr>\n",
       "    <tr>\n",
       "      <th>...</th>\n",
       "      <td>...</td>\n",
       "      <td>...</td>\n",
       "      <td>...</td>\n",
       "    </tr>\n",
       "    <tr>\n",
       "      <th>90693</th>\n",
       "      <td>Warren</td>\n",
       "      <td>White Township</td>\n",
       "      <td>2712.062549</td>\n",
       "    </tr>\n",
       "    <tr>\n",
       "      <th>90694</th>\n",
       "      <td>Warren</td>\n",
       "      <td>White Township</td>\n",
       "      <td>2712.062549</td>\n",
       "    </tr>\n",
       "    <tr>\n",
       "      <th>90695</th>\n",
       "      <td>Warren</td>\n",
       "      <td>White Township</td>\n",
       "      <td>2712.062549</td>\n",
       "    </tr>\n",
       "    <tr>\n",
       "      <th>90696</th>\n",
       "      <td>Warren</td>\n",
       "      <td>White Township</td>\n",
       "      <td>2712.062549</td>\n",
       "    </tr>\n",
       "    <tr>\n",
       "      <th>90697</th>\n",
       "      <td>Warren</td>\n",
       "      <td>White Township</td>\n",
       "      <td>2712.062549</td>\n",
       "    </tr>\n",
       "  </tbody>\n",
       "</table>\n",
       "<p>90140 rows × 3 columns</p>\n",
       "</div>"
      ],
      "text/plain": [
       "         County    Municipality  Total_Acres\n",
       "1      Atlantic    Absecon City   390.772836\n",
       "2      Atlantic    Absecon City   390.772836\n",
       "3      Atlantic    Absecon City   390.772836\n",
       "4      Atlantic    Absecon City   390.772836\n",
       "5      Atlantic    Absecon City   390.772836\n",
       "...         ...             ...          ...\n",
       "90693    Warren  White Township  2712.062549\n",
       "90694    Warren  White Township  2712.062549\n",
       "90695    Warren  White Township  2712.062549\n",
       "90696    Warren  White Township  2712.062549\n",
       "90697    Warren  White Township  2712.062549\n",
       "\n",
       "[90140 rows x 3 columns]"
      ]
     },
     "execution_count": 27,
     "metadata": {},
     "output_type": "execute_result"
    }
   ],
   "source": [
    "#Check for duplicates\n",
    "df_Open_Space[df_Open_Space.duplicated()]"
   ]
  },
  {
   "cell_type": "code",
   "execution_count": 32,
   "id": "1462e654",
   "metadata": {},
   "outputs": [],
   "source": [
    "df_Open_Space_2= df_Open_Space.drop_duplicates()"
   ]
  },
  {
   "cell_type": "code",
   "execution_count": 33,
   "id": "2c10ce71",
   "metadata": {},
   "outputs": [
    {
     "data": {
      "text/plain": [
       "(560, 3)"
      ]
     },
     "execution_count": 33,
     "metadata": {},
     "output_type": "execute_result"
    }
   ],
   "source": [
    "df_Open_Space_2.shape"
   ]
  },
  {
   "cell_type": "code",
   "execution_count": 34,
   "id": "6f16ba29",
   "metadata": {},
   "outputs": [],
   "source": [
    "df_Open_Space_2.to_csv((r'C:\\Users\\Zinnia\\Documents\\Career Foundry Data Analytics Course\\Achievement 6\\Data\\Edited\\Edited_Open_Space_Data_July_31.csv'))"
   ]
  },
  {
   "cell_type": "code",
   "execution_count": null,
   "id": "7c6ed806",
   "metadata": {},
   "outputs": [],
   "source": [
    "df_Rutgers.shape"
   ]
  },
  {
   "cell_type": "code",
   "execution_count": null,
   "id": "6304ecfb",
   "metadata": {},
   "outputs": [],
   "source": [
    "df_merged = df_Rutgers.merge(df_Open_Space, how= 'left', on= ['Municipality'], indicator= True)"
   ]
  },
  {
   "cell_type": "code",
   "execution_count": null,
   "id": "b6d56450",
   "metadata": {},
   "outputs": [],
   "source": [
    "df_merged.head()"
   ]
  },
  {
   "cell_type": "code",
   "execution_count": null,
   "id": "6103d9cd",
   "metadata": {},
   "outputs": [],
   "source": [
    "df_merged.shape"
   ]
  },
  {
   "cell_type": "code",
   "execution_count": null,
   "id": "a8ade466",
   "metadata": {},
   "outputs": [],
   "source": [
    "#Check for duplicates\n",
    "df_merged[df_merged.duplicated()]"
   ]
  },
  {
   "cell_type": "code",
   "execution_count": null,
   "id": "b449976c",
   "metadata": {},
   "outputs": [],
   "source": [
    "df_merged.drop_duplicates()"
   ]
  },
  {
   "cell_type": "code",
   "execution_count": null,
   "id": "59c7a402",
   "metadata": {},
   "outputs": [],
   "source": [
    "#Export data in pickle format\n",
    "df_merged.to_pickle(os.path.join(path, 'merged_edited_data.pkl'))"
   ]
  },
  {
   "cell_type": "code",
   "execution_count": null,
   "id": "0bcf43d1",
   "metadata": {},
   "outputs": [],
   "source": [
    "df.to_csv((r'C:\\Users\\Zinnia\\Documents\\Career Foundry Data Analytics Course\\Achievement 6\\Data\\Edited\\Edited_Merged_Data_July_31.csv'))"
   ]
  }
 ],
 "metadata": {
  "kernelspec": {
   "display_name": "Python 3 (ipykernel)",
   "language": "python",
   "name": "python3"
  },
  "language_info": {
   "codemirror_mode": {
    "name": "ipython",
    "version": 3
   },
   "file_extension": ".py",
   "mimetype": "text/x-python",
   "name": "python",
   "nbconvert_exporter": "python",
   "pygments_lexer": "ipython3",
   "version": "3.9.7"
  }
 },
 "nbformat": 4,
 "nbformat_minor": 5
}
